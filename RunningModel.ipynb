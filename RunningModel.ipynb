{
 "cells": [
  {
   "cell_type": "code",
   "execution_count": null,
   "metadata": {
    "vscode": {
     "languageId": "plaintext"
    }
   },
   "outputs": [],
   "source": [
    "# Working directory and Data"
   ]
  },
  {
   "cell_type": "code",
   "execution_count": null,
   "metadata": {
    "vscode": {
     "languageId": "plaintext"
    }
   },
   "outputs": [],
   "source": [
    "pwd"
   ]
  },
  {
   "cell_type": "code",
   "execution_count": null,
   "metadata": {
    "vscode": {
     "languageId": "plaintext"
    }
   },
   "outputs": [],
   "source": [
    "from google.colab import drive\n",
    "drive.mount('/content/drive') # Mount Google Drive at '/content/drive'"
   ]
  },
  {
   "cell_type": "code",
   "execution_count": null,
   "metadata": {
    "vscode": {
     "languageId": "plaintext"
    }
   },
   "outputs": [],
   "source": [
    "file_path = \"/content/drive/MyDrive/PyTorch Tutorial to Object Detection./VOCtrainval_11-May-2012.tar\"  # Replace with the correct path\n",
    "\n",
    "with tarfile.open(file_path, 'r') as tar:\n",
    "    tar.extractall()\n",
    "    print('Done')"
   ]
  },
  {
   "cell_type": "code",
   "execution_count": null,
   "metadata": {
    "vscode": {
     "languageId": "plaintext"
    }
   },
   "outputs": [],
   "source": [
    "!git clone -b <branch> --single-branch <repo url>\n"
   ]
  },
  {
   "cell_type": "code",
   "execution_count": null,
   "metadata": {
    "vscode": {
     "languageId": "plaintext"
    }
   },
   "outputs": [],
   "source": [
    "# prompt: move VOCdevkit folder into /content/a-PyTorch-Tutorial-to-Object-Detection-master\n",
    "\n",
    "import shutil\n",
    "import os\n",
    "\n",
    "# Define the source and destination paths\n",
    "source_path = \"/content/VOCdevkit\"  # Replace with the actual path to your VOCdevkit folder\n",
    "destination_path = \"/content/a-PyTorch-Tutorial-to-Object-Detection\"\n",
    "\n",
    "# Check if the source directory exists\n",
    "if os.path.exists(source_path):\n",
    "    try:\n",
    "        # Use shutil.move to move the directory\n",
    "        shutil.move(source_path, destination_path)\n",
    "        print(f\"Successfully moved '{source_path}' to '{destination_path}'\")\n",
    "    except Exception as e:\n",
    "        print(f\"Error moving directory: {e}\")\n",
    "else:\n",
    "    print(f\"Source directory '{source_path}' not found.\")"
   ]
  },
  {
   "cell_type": "code",
   "execution_count": null,
   "metadata": {
    "vscode": {
     "languageId": "plaintext"
    }
   },
   "outputs": [],
   "source": [
    "%cd /content/a-PyTorch-Tutorial-to-Object-Detection\n",
    "#change cwd to appropriate one\n",
    "\n",
    "#don't need this but maybe useful for other projects:\n",
    "#!git clone https://github.com/lzyjo/a-PyTorch-Tutorial-to-Object-Detection.git #clone repo with all .py files"
   ]
  },
  {
   "cell_type": "code",
   "execution_count": null,
   "metadata": {
    "vscode": {
     "languageId": "plaintext"
    }
   },
   "outputs": [],
   "source": [
    "from utils import *\n",
    "from datasets import *\n",
    "from model import *\n",
    "from train import *\n",
    "from eval import *\n",
    "from detect import *"
   ]
  }
 ],
 "metadata": {
  "language_info": {
   "name": "python"
  }
 },
 "nbformat": 4,
 "nbformat_minor": 2
}
